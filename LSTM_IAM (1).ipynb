{
  "nbformat": 4,
  "nbformat_minor": 0,
  "metadata": {
    "colab": {
      "provenance": []
    },
    "kernelspec": {
      "name": "python3",
      "display_name": "Python 3"
    },
    "language_info": {
      "name": "python"
    }
  },
  "cells": [
    {
      "cell_type": "code",
      "metadata": {
        "id": "8dfbr9gOXpfG"
      },
      "source": [
        "import numpy as np\n",
        "import matplotlib.pyplot as plt\n",
        "import pandas as pd"
      ],
      "execution_count": null,
      "outputs": []
    },
    {
      "cell_type": "code",
      "metadata": {
        "id": "_bXItoQfXxQU"
      },
      "source": [
        "dataset_train = pd.read_csv('/content/IAM - Données Historiques (1).csv')\n",
        "#training_set = dataset_train.iloc[:, 1:2].values"
      ],
      "execution_count": null,
      "outputs": []
    },
    {
      "cell_type": "code",
      "metadata": {
        "id": "SsysNeLqYrzP"
      },
      "source": [
        "dataset_train=dataset_train[[\"Dernier\"]].copy()\n",
        "training_set=dataset_train.replace('[^\\d].','',regex=True).astype(float)"
      ],
      "execution_count": null,
      "outputs": []
    },
    {
      "cell_type": "code",
      "metadata": {
        "colab": {
          "base_uri": "https://localhost:8080/",
          "height": 206
        },
        "id": "Ugqp1Y6bX1cu",
        "outputId": "ee3cb803-1d09-480b-d0a5-95d21fd80701"
      },
      "source": [
        "dataset_train.head()"
      ],
      "execution_count": null,
      "outputs": [
        {
          "output_type": "execute_result",
          "data": {
            "text/html": [
              "<div>\n",
              "<style scoped>\n",
              "    .dataframe tbody tr th:only-of-type {\n",
              "        vertical-align: middle;\n",
              "    }\n",
              "\n",
              "    .dataframe tbody tr th {\n",
              "        vertical-align: top;\n",
              "    }\n",
              "\n",
              "    .dataframe thead th {\n",
              "        text-align: right;\n",
              "    }\n",
              "</style>\n",
              "<table border=\"1\" class=\"dataframe\">\n",
              "  <thead>\n",
              "    <tr style=\"text-align: right;\">\n",
              "      <th></th>\n",
              "      <th>Dernier</th>\n",
              "    </tr>\n",
              "  </thead>\n",
              "  <tbody>\n",
              "    <tr>\n",
              "      <th>0</th>\n",
              "      <td>140,70</td>\n",
              "    </tr>\n",
              "    <tr>\n",
              "      <th>1</th>\n",
              "      <td>141,00</td>\n",
              "    </tr>\n",
              "    <tr>\n",
              "      <th>2</th>\n",
              "      <td>139,90</td>\n",
              "    </tr>\n",
              "    <tr>\n",
              "      <th>3</th>\n",
              "      <td>139,50</td>\n",
              "    </tr>\n",
              "    <tr>\n",
              "      <th>4</th>\n",
              "      <td>140,60</td>\n",
              "    </tr>\n",
              "  </tbody>\n",
              "</table>\n",
              "</div>"
            ],
            "text/plain": [
              "  Dernier\n",
              "0  140,70\n",
              "1  141,00\n",
              "2  139,90\n",
              "3  139,50\n",
              "4  140,60"
            ]
          },
          "metadata": {},
          "execution_count": 4
        }
      ]
    },
    {
      "cell_type": "code",
      "metadata": {
        "id": "qEJx_Z2qX5Mk"
      },
      "source": [
        "from sklearn.preprocessing import MinMaxScaler\n",
        "sc = MinMaxScaler(feature_range = (0, 1))\n",
        "training_set_scaled = sc.fit_transform(training_set)"
      ],
      "execution_count": null,
      "outputs": []
    },
    {
      "cell_type": "code",
      "metadata": {
        "id": "pmkZ-JbdX8vE"
      },
      "source": [
        "X_train = []\n",
        "y_train = []\n",
        "for i in range(60, len(training_set_scaled)):\n",
        "    X_train.append(training_set_scaled[i-60:i, 0])\n",
        "    y_train.append(training_set_scaled[i, 0])\n",
        "X_train, y_train = np.array(X_train), np.array(y_train)\n",
        "\n",
        "X_train = np.reshape(X_train, (X_train.shape[0], X_train.shape[1], 1))"
      ],
      "execution_count": null,
      "outputs": []
    },
    {
      "cell_type": "code",
      "metadata": {
        "id": "hAzTozLvX9xl"
      },
      "source": [
        "from keras.models import Sequential\n",
        "from keras.layers import Dense\n",
        "from keras.layers import LSTM\n",
        "from keras.layers import Dropout"
      ],
      "execution_count": null,
      "outputs": []
    },
    {
      "cell_type": "code",
      "metadata": {
        "colab": {
          "base_uri": "https://localhost:8080/"
        },
        "id": "RVNkx2WFYGXj",
        "outputId": "f5dc0df2-4ac6-4d39-f96f-55e33b68e3be"
      },
      "source": [
        "regressor = Sequential()\n",
        "\n",
        "regressor.add(LSTM(units = 50, return_sequences = True, input_shape = (X_train.shape[1], 1)))\n",
        "regressor.add(Dropout(0.2))\n",
        "\n",
        "regressor.add(LSTM(units = 50, return_sequences = True))\n",
        "regressor.add(Dropout(0.2))\n",
        "\n",
        "regressor.add(LSTM(units = 50, return_sequences = True))\n",
        "regressor.add(Dropout(0.2))\n",
        "\n",
        "regressor.add(LSTM(units = 50))\n",
        "regressor.add(Dropout(0.2))\n",
        "\n",
        "regressor.add(Dense(units = 1))\n",
        "\n",
        "regressor.compile(optimizer = 'adam', loss = 'mean_squared_error')\n",
        "\n",
        "regressor.fit(X_train, y_train, epochs = 100, batch_size = 32)"
      ],
      "execution_count": null,
      "outputs": [
        {
          "output_type": "stream",
          "name": "stdout",
          "text": [
            "Epoch 1/100\n",
            "37/37 [==============================] - 11s 117ms/step - loss: 0.0577\n",
            "Epoch 2/100\n",
            "37/37 [==============================] - 4s 117ms/step - loss: 0.0149\n",
            "Epoch 3/100\n",
            "37/37 [==============================] - 4s 116ms/step - loss: 0.0133\n",
            "Epoch 4/100\n",
            "37/37 [==============================] - 4s 118ms/step - loss: 0.0120\n",
            "Epoch 5/100\n",
            "37/37 [==============================] - 4s 117ms/step - loss: 0.0105\n",
            "Epoch 6/100\n",
            "37/37 [==============================] - 4s 116ms/step - loss: 0.0108\n",
            "Epoch 7/100\n",
            "37/37 [==============================] - 4s 118ms/step - loss: 0.0109\n",
            "Epoch 8/100\n",
            "37/37 [==============================] - 4s 116ms/step - loss: 0.0099\n",
            "Epoch 9/100\n",
            "37/37 [==============================] - 4s 117ms/step - loss: 0.0096\n",
            "Epoch 10/100\n",
            "37/37 [==============================] - 4s 114ms/step - loss: 0.0100\n",
            "Epoch 11/100\n",
            "37/37 [==============================] - 4s 118ms/step - loss: 0.0098\n",
            "Epoch 12/100\n",
            "37/37 [==============================] - 4s 118ms/step - loss: 0.0091\n",
            "Epoch 13/100\n",
            "37/37 [==============================] - 4s 117ms/step - loss: 0.0091\n",
            "Epoch 14/100\n",
            "37/37 [==============================] - 4s 117ms/step - loss: 0.0094\n",
            "Epoch 15/100\n",
            "37/37 [==============================] - 4s 118ms/step - loss: 0.0079\n",
            "Epoch 16/100\n",
            "37/37 [==============================] - 4s 116ms/step - loss: 0.0079\n",
            "Epoch 17/100\n",
            "37/37 [==============================] - 4s 117ms/step - loss: 0.0077\n",
            "Epoch 18/100\n",
            "37/37 [==============================] - 4s 116ms/step - loss: 0.0081\n",
            "Epoch 19/100\n",
            "37/37 [==============================] - 4s 116ms/step - loss: 0.0067\n",
            "Epoch 20/100\n",
            "37/37 [==============================] - 4s 118ms/step - loss: 0.0067\n",
            "Epoch 21/100\n",
            "37/37 [==============================] - 4s 117ms/step - loss: 0.0061\n",
            "Epoch 22/100\n",
            "37/37 [==============================] - 4s 118ms/step - loss: 0.0067\n",
            "Epoch 23/100\n",
            "37/37 [==============================] - 4s 116ms/step - loss: 0.0062\n",
            "Epoch 24/100\n",
            "37/37 [==============================] - 4s 118ms/step - loss: 0.0061\n",
            "Epoch 25/100\n",
            "37/37 [==============================] - 4s 119ms/step - loss: 0.0059\n",
            "Epoch 26/100\n",
            "37/37 [==============================] - 4s 116ms/step - loss: 0.0059\n",
            "Epoch 27/100\n",
            "37/37 [==============================] - 4s 117ms/step - loss: 0.0055\n",
            "Epoch 28/100\n",
            "37/37 [==============================] - 4s 118ms/step - loss: 0.0056\n",
            "Epoch 29/100\n",
            "37/37 [==============================] - 4s 117ms/step - loss: 0.0054\n",
            "Epoch 30/100\n",
            "37/37 [==============================] - 4s 118ms/step - loss: 0.0059\n",
            "Epoch 31/100\n",
            "37/37 [==============================] - 4s 118ms/step - loss: 0.0052\n",
            "Epoch 32/100\n",
            "37/37 [==============================] - 4s 119ms/step - loss: 0.0052\n",
            "Epoch 33/100\n",
            "37/37 [==============================] - 4s 118ms/step - loss: 0.0053\n",
            "Epoch 34/100\n",
            "37/37 [==============================] - 4s 120ms/step - loss: 0.0055\n",
            "Epoch 35/100\n",
            "37/37 [==============================] - 4s 120ms/step - loss: 0.0049\n",
            "Epoch 36/100\n",
            "37/37 [==============================] - 4s 120ms/step - loss: 0.0049\n",
            "Epoch 37/100\n",
            "37/37 [==============================] - 4s 119ms/step - loss: 0.0051\n",
            "Epoch 38/100\n",
            "37/37 [==============================] - 4s 118ms/step - loss: 0.0052\n",
            "Epoch 39/100\n",
            "37/37 [==============================] - 4s 117ms/step - loss: 0.0044\n",
            "Epoch 40/100\n",
            "37/37 [==============================] - 4s 115ms/step - loss: 0.0048\n",
            "Epoch 41/100\n",
            "37/37 [==============================] - 4s 117ms/step - loss: 0.0050\n",
            "Epoch 42/100\n",
            "37/37 [==============================] - 4s 117ms/step - loss: 0.0043\n",
            "Epoch 43/100\n",
            "37/37 [==============================] - 4s 116ms/step - loss: 0.0043\n",
            "Epoch 44/100\n",
            "37/37 [==============================] - 4s 116ms/step - loss: 0.0046\n",
            "Epoch 45/100\n",
            "37/37 [==============================] - 4s 117ms/step - loss: 0.0047\n",
            "Epoch 46/100\n",
            "37/37 [==============================] - 4s 121ms/step - loss: 0.0044\n",
            "Epoch 47/100\n",
            "37/37 [==============================] - 4s 116ms/step - loss: 0.0042\n",
            "Epoch 48/100\n",
            "37/37 [==============================] - 4s 118ms/step - loss: 0.0041\n",
            "Epoch 49/100\n",
            "37/37 [==============================] - 4s 119ms/step - loss: 0.0042\n",
            "Epoch 50/100\n",
            "37/37 [==============================] - 4s 118ms/step - loss: 0.0038\n",
            "Epoch 51/100\n",
            "37/37 [==============================] - 4s 117ms/step - loss: 0.0038\n",
            "Epoch 52/100\n",
            "37/37 [==============================] - 4s 117ms/step - loss: 0.0037\n",
            "Epoch 53/100\n",
            "37/37 [==============================] - 4s 120ms/step - loss: 0.0040\n",
            "Epoch 54/100\n",
            "37/37 [==============================] - 4s 118ms/step - loss: 0.0038\n",
            "Epoch 55/100\n",
            "37/37 [==============================] - 4s 118ms/step - loss: 0.0036\n",
            "Epoch 56/100\n",
            "37/37 [==============================] - 4s 118ms/step - loss: 0.0039\n",
            "Epoch 57/100\n",
            "37/37 [==============================] - 4s 117ms/step - loss: 0.0036\n",
            "Epoch 58/100\n",
            "37/37 [==============================] - 4s 117ms/step - loss: 0.0036\n",
            "Epoch 59/100\n",
            "37/37 [==============================] - 4s 118ms/step - loss: 0.0036\n",
            "Epoch 60/100\n",
            "37/37 [==============================] - 4s 119ms/step - loss: 0.0034\n",
            "Epoch 61/100\n",
            "37/37 [==============================] - 4s 117ms/step - loss: 0.0035\n",
            "Epoch 62/100\n",
            "37/37 [==============================] - 4s 115ms/step - loss: 0.0040\n",
            "Epoch 63/100\n",
            "37/37 [==============================] - 4s 117ms/step - loss: 0.0033\n",
            "Epoch 64/100\n",
            "37/37 [==============================] - 4s 115ms/step - loss: 0.0034\n",
            "Epoch 65/100\n",
            "37/37 [==============================] - 4s 117ms/step - loss: 0.0034\n",
            "Epoch 66/100\n",
            "37/37 [==============================] - 4s 116ms/step - loss: 0.0032\n",
            "Epoch 67/100\n",
            "37/37 [==============================] - 4s 116ms/step - loss: 0.0031\n",
            "Epoch 68/100\n",
            "37/37 [==============================] - 4s 116ms/step - loss: 0.0031\n",
            "Epoch 69/100\n",
            "37/37 [==============================] - 4s 115ms/step - loss: 0.0032\n",
            "Epoch 70/100\n",
            "37/37 [==============================] - 4s 117ms/step - loss: 0.0029\n",
            "Epoch 71/100\n",
            "37/37 [==============================] - 4s 118ms/step - loss: 0.0031\n",
            "Epoch 72/100\n",
            "37/37 [==============================] - 4s 118ms/step - loss: 0.0030\n",
            "Epoch 73/100\n",
            "37/37 [==============================] - 4s 116ms/step - loss: 0.0030\n",
            "Epoch 74/100\n",
            "37/37 [==============================] - 4s 115ms/step - loss: 0.0030\n",
            "Epoch 75/100\n",
            "37/37 [==============================] - 4s 120ms/step - loss: 0.0028\n",
            "Epoch 76/100\n",
            "37/37 [==============================] - 4s 117ms/step - loss: 0.0027\n",
            "Epoch 77/100\n",
            "37/37 [==============================] - 4s 117ms/step - loss: 0.0027\n",
            "Epoch 78/100\n",
            "37/37 [==============================] - 4s 116ms/step - loss: 0.0025\n",
            "Epoch 79/100\n",
            "37/37 [==============================] - 4s 116ms/step - loss: 0.0029\n",
            "Epoch 80/100\n",
            "37/37 [==============================] - 4s 118ms/step - loss: 0.0024\n",
            "Epoch 81/100\n",
            "37/37 [==============================] - 4s 116ms/step - loss: 0.0026\n",
            "Epoch 82/100\n",
            "37/37 [==============================] - 4s 115ms/step - loss: 0.0029\n",
            "Epoch 83/100\n",
            "37/37 [==============================] - 4s 116ms/step - loss: 0.0025\n",
            "Epoch 84/100\n",
            "37/37 [==============================] - 4s 118ms/step - loss: 0.0027\n",
            "Epoch 85/100\n",
            "37/37 [==============================] - 4s 116ms/step - loss: 0.0025\n",
            "Epoch 86/100\n",
            "37/37 [==============================] - 4s 117ms/step - loss: 0.0023\n",
            "Epoch 87/100\n",
            "37/37 [==============================] - 4s 116ms/step - loss: 0.0023\n",
            "Epoch 88/100\n",
            "37/37 [==============================] - 4s 115ms/step - loss: 0.0023\n",
            "Epoch 89/100\n",
            "37/37 [==============================] - 4s 117ms/step - loss: 0.0024\n",
            "Epoch 90/100\n",
            "37/37 [==============================] - 4s 118ms/step - loss: 0.0023\n",
            "Epoch 91/100\n",
            "37/37 [==============================] - 4s 117ms/step - loss: 0.0022\n",
            "Epoch 92/100\n",
            "37/37 [==============================] - 4s 116ms/step - loss: 0.0022\n",
            "Epoch 93/100\n",
            "37/37 [==============================] - 4s 118ms/step - loss: 0.0022\n",
            "Epoch 94/100\n",
            "37/37 [==============================] - 4s 120ms/step - loss: 0.0019\n",
            "Epoch 95/100\n",
            "37/37 [==============================] - 4s 118ms/step - loss: 0.0022\n",
            "Epoch 96/100\n",
            "37/37 [==============================] - 4s 118ms/step - loss: 0.0021\n",
            "Epoch 97/100\n",
            "37/37 [==============================] - 4s 116ms/step - loss: 0.0019\n",
            "Epoch 98/100\n",
            "37/37 [==============================] - 4s 118ms/step - loss: 0.0020\n",
            "Epoch 99/100\n",
            "37/37 [==============================] - 4s 118ms/step - loss: 0.0022\n",
            "Epoch 100/100\n",
            "37/37 [==============================] - 4s 118ms/step - loss: 0.0022\n"
          ]
        },
        {
          "output_type": "execute_result",
          "data": {
            "text/plain": [
              "<keras.callbacks.History at 0x7f3ae69bd590>"
            ]
          },
          "metadata": {},
          "execution_count": 8
        }
      ]
    },
    {
      "cell_type": "code",
      "metadata": {
        "id": "iBz70ziyYQOB"
      },
      "source": [
        "dataset_test = pd.read_csv('/content/IAM - Données Historiques (1).csv')\n",
        ""
      ],
      "execution_count": null,
      "outputs": []
    },
    {
      "cell_type": "code",
      "metadata": {
        "id": "WhlCkWT9cG88"
      },
      "source": [
        "dataset_test=dataset_test[[\"Dernier\"]].copy()\n",
        "testing_set=dataset_test.replace('[^\\d].','',regex=True).astype(float)\n",
        "real_stock_price=testing_set"
      ],
      "execution_count": null,
      "outputs": []
    },
    {
      "cell_type": "code",
      "metadata": {
        "id": "z2QJHubOYVAK"
      },
      "source": [
        "dataset_total = pd.concat((training_set['Dernier'], testing_set['Dernier']), axis = 0)\n",
        "inputs = dataset_total[len(dataset_total) - len(dataset_test) - 60:].values\n",
        "inputs = inputs.reshape(-1,1)\n",
        "inputs = sc.transform(inputs)\n",
        "X_test = []\n",
        "for i in range(60, 76):\n",
        "    X_test.append(inputs[i-60:i, 0])\n",
        "X_test = np.array(X_test)\n",
        "X_test = np.reshape(X_test, (X_test.shape[0], X_test.shape[1], 1))\n",
        "predicted_stock_price = regressor.predict(X_test)\n",
        "predicted_stock_price = sc.inverse_transform(predicted_stock_price)"
      ],
      "execution_count": null,
      "outputs": []
    },
    {
      "cell_type": "code",
      "metadata": {
        "colab": {
          "base_uri": "https://localhost:8080/",
          "height": 463
        },
        "id": "5tuhQqxUYZdF",
        "outputId": "74dedd9d-cb78-4cce-bb87-a135b5664b95"
      },
      "source": [
        "plt.figure(figsize=(16,8))\n",
        "plt.plot(real_stock_price, color = 'blue', label = 'Dernier ')\n",
        "plt.plot(predicted_stock_price, color = 'red', label = 'Predicted IAM')\n",
        "plt.title('Prediction')\n",
        "plt.xlabel('Date')\n",
        "plt.ylabel('dernier prix')\n",
        "plt.legend()\n",
        "plt.show()"
      ],
      "execution_count": null,
      "outputs": [
        {
          "output_type": "display_data",
          "data": {
            "image/png": "[encoded data removed]",
            "text/plain": [
              "<Figure size 1152x576 with 1 Axes>"
            ]
          },
          "metadata": {
            "needs_background": "light"
          }
        }
      ]
    },
    {
      "cell_type": "code",
      "metadata": {
        "id": "75Qk8in3dRVX"
      },
      "source": [],
      "execution_count": null,
      "outputs": []
    },
    {
      "cell_type": "code",
      "metadata": {
        "id": "_EH_AcaDc8XH"
      },
      "source": [],
      "execution_count": null,
      "outputs": []
    }
  ]
}