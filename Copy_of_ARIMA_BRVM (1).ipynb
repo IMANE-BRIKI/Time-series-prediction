{
  "nbformat": 4,
  "nbformat_minor": 0,
  "metadata": {
    "colab": {
      "provenance": []
    },
    "kernelspec": {
      "name": "python3",
      "display_name": "Python 3"
    },
    "language_info": {
      "name": "python"
    }
  },
  "cells": [
    {
      "cell_type": "code",
      "metadata": {
        "id": "U9CGbdtU877z"
      },
      "source": [
        "from IPython.core.debugger import set_trace\n",
        "import pandas as pd\n",
        "import numpy as np\n",
        "import os\n",
        "import matplotlib.pyplot as plt\n",
        "import time\n",
        "plt.style.use(style='seaborn')"
      ],
      "execution_count": null,
      "outputs": []
    },
    {
      "cell_type": "code",
      "metadata": {
        "id": "G2Hf4le69BNc"
      },
      "source": [
        "df=pd.read_csv('/content/BRVM 10 - Données Historiques.csv')"
      ],
      "execution_count": null,
      "outputs": []
    },
    {
      "cell_type": "code",
      "metadata": {
        "colab": {
          "base_uri": "https://localhost:8080/",
          "height": 206
        },
        "id": "3cbLNjD39T2f",
        "outputId": "9a368a9d-cae1-4ef2-d196-87089f39f374"
      },
      "source": [
        "df.head(5)"
      ],
      "execution_count": null,
      "outputs": [
        {
          "output_type": "execute_result",
          "data": {
            "text/html": [
              "<div>\n",
              "<style scoped>\n",
              "    .dataframe tbody tr th:only-of-type {\n",
              "        vertical-align: middle;\n",
              "    }\n",
              "\n",
              "    .dataframe tbody tr th {\n",
              "        vertical-align: top;\n",
              "    }\n",
              "\n",
              "    .dataframe thead th {\n",
              "        text-align: right;\n",
              "    }\n",
              "</style>\n",
              "<table border=\"1\" class=\"dataframe\">\n",
              "  <thead>\n",
              "    <tr style=\"text-align: right;\">\n",
              "      <th></th>\n",
              "      <th>Date</th>\n",
              "      <th>Dernier</th>\n",
              "      <th>Ouv.</th>\n",
              "      <th>Plus Haut</th>\n",
              "      <th>Plus Bas</th>\n",
              "      <th>Vol.</th>\n",
              "      <th>Variation %</th>\n",
              "    </tr>\n",
              "  </thead>\n",
              "  <tbody>\n",
              "    <tr>\n",
              "      <th>0</th>\n",
              "      <td>27/08/2021</td>\n",
              "      <td>138,11</td>\n",
              "      <td>137,73</td>\n",
              "      <td>138,90</td>\n",
              "      <td>137,73</td>\n",
              "      <td>-</td>\n",
              "      <td>0,28%</td>\n",
              "    </tr>\n",
              "    <tr>\n",
              "      <th>1</th>\n",
              "      <td>26/08/2021</td>\n",
              "      <td>137,73</td>\n",
              "      <td>138,18</td>\n",
              "      <td>138,75</td>\n",
              "      <td>137,73</td>\n",
              "      <td>-</td>\n",
              "      <td>-0,33%</td>\n",
              "    </tr>\n",
              "    <tr>\n",
              "      <th>2</th>\n",
              "      <td>25/08/2021</td>\n",
              "      <td>138,18</td>\n",
              "      <td>139,39</td>\n",
              "      <td>139,39</td>\n",
              "      <td>138,18</td>\n",
              "      <td>-</td>\n",
              "      <td>-0,87%</td>\n",
              "    </tr>\n",
              "    <tr>\n",
              "      <th>3</th>\n",
              "      <td>24/08/2021</td>\n",
              "      <td>139,39</td>\n",
              "      <td>138,77</td>\n",
              "      <td>139,39</td>\n",
              "      <td>138,77</td>\n",
              "      <td>-</td>\n",
              "      <td>0,45%</td>\n",
              "    </tr>\n",
              "    <tr>\n",
              "      <th>4</th>\n",
              "      <td>23/08/2021</td>\n",
              "      <td>138,77</td>\n",
              "      <td>138,93</td>\n",
              "      <td>139,59</td>\n",
              "      <td>138,77</td>\n",
              "      <td>-</td>\n",
              "      <td>-0,12%</td>\n",
              "    </tr>\n",
              "  </tbody>\n",
              "</table>\n",
              "</div>"
            ],
            "text/plain": [
              "         Date Dernier    Ouv. Plus Haut Plus Bas Vol. Variation %\n",
              "0  27/08/2021  138,11  137,73    138,90   137,73    -       0,28%\n",
              "1  26/08/2021  137,73  138,18    138,75   137,73    -      -0,33%\n",
              "2  25/08/2021  138,18  139,39    139,39   138,18    -      -0,87%\n",
              "3  24/08/2021  139,39  138,77    139,39   138,77    -       0,45%\n",
              "4  23/08/2021  138,77  138,93    139,59   138,77    -      -0,12%"
            ]
          },
          "metadata": {},
          "execution_count": 3
        }
      ]
    },
    {
      "cell_type": "code",
      "metadata": {
        "id": "PhccgXUk99Az"
      },
      "source": [
        "df['Date'] = pd.to_datetime(df.Date,format='%d/%m/%Y')\n",
        "df.index = df['Date']"
      ],
      "execution_count": null,
      "outputs": []
    },
    {
      "cell_type": "code",
      "metadata": {
        "id": "npbk43M6-I7U"
      },
      "source": [
        "df=df[[\"Dernier\"]].copy()\n",
        "df1=df.replace('[^\\d].','',regex=True).astype(float)"
      ],
      "execution_count": null,
      "outputs": []
    },
    {
      "cell_type": "code",
      "metadata": {
        "colab": {
          "base_uri": "https://localhost:8080/",
          "height": 300
        },
        "id": "RtyLaIK69p64",
        "outputId": "64b9ca68-8d9d-450a-ec85-d87694324f47"
      },
      "source": [
        "df1.describe()"
      ],
      "execution_count": null,
      "outputs": [
        {
          "output_type": "execute_result",
          "data": {
            "text/html": [
              "<div>\n",
              "<style scoped>\n",
              "    .dataframe tbody tr th:only-of-type {\n",
              "        vertical-align: middle;\n",
              "    }\n",
              "\n",
              "    .dataframe tbody tr th {\n",
              "        vertical-align: top;\n",
              "    }\n",
              "\n",
              "    .dataframe thead th {\n",
              "        text-align: right;\n",
              "    }\n",
              "</style>\n",
              "<table border=\"1\" class=\"dataframe\">\n",
              "  <thead>\n",
              "    <tr style=\"text-align: right;\">\n",
              "      <th></th>\n",
              "      <th>Dernier</th>\n",
              "    </tr>\n",
              "  </thead>\n",
              "  <tbody>\n",
              "    <tr>\n",
              "      <th>count</th>\n",
              "      <td>1242.000000</td>\n",
              "    </tr>\n",
              "    <tr>\n",
              "      <th>mean</th>\n",
              "      <td>1738.037842</td>\n",
              "    </tr>\n",
              "    <tr>\n",
              "      <th>std</th>\n",
              "      <td>464.690070</td>\n",
              "    </tr>\n",
              "    <tr>\n",
              "      <th>min</th>\n",
              "      <td>1117.000000</td>\n",
              "    </tr>\n",
              "    <tr>\n",
              "      <th>25%</th>\n",
              "      <td>1312.000000</td>\n",
              "    </tr>\n",
              "    <tr>\n",
              "      <th>50%</th>\n",
              "      <td>1591.000000</td>\n",
              "    </tr>\n",
              "    <tr>\n",
              "      <th>75%</th>\n",
              "      <td>2141.000000</td>\n",
              "    </tr>\n",
              "    <tr>\n",
              "      <th>max</th>\n",
              "      <td>2658.000000</td>\n",
              "    </tr>\n",
              "  </tbody>\n",
              "</table>\n",
              "</div>"
            ],
            "text/plain": [
              "           Dernier\n",
              "count  1242.000000\n",
              "mean   1738.037842\n",
              "std     464.690070\n",
              "min    1117.000000\n",
              "25%    1312.000000\n",
              "50%    1591.000000\n",
              "75%    2141.000000\n",
              "max    2658.000000"
            ]
          },
          "metadata": {},
          "execution_count": 6
        }
      ]
    },
    {
      "cell_type": "code",
      "metadata": {
        "id": "JWcZoRhP9ttG"
      },
      "source": [
        "#train test split\n",
        "n=int(len(df1)*0.8)\n",
        "train=df1.Dernier[:n]\n",
        "test=df1.Dernier[n:]"
      ],
      "execution_count": null,
      "outputs": []
    },
    {
      "cell_type": "code",
      "metadata": {
        "colab": {
          "base_uri": "https://localhost:8080/"
        },
        "id": "PJ5DH-lR--Rd",
        "outputId": "a226eeee-ee7d-4243-f155-2db6902556bc"
      },
      "source": [
        "print(len(train))\n",
        "print(len(test))"
      ],
      "execution_count": null,
      "outputs": [
        {
          "output_type": "stream",
          "name": "stdout",
          "text": [
            "993\n",
            "249\n"
          ]
        }
      ]
    },
    {
      "cell_type": "code",
      "metadata": {
        "id": "uGWLCir6_KJy",
        "colab": {
          "base_uri": "https://localhost:8080/"
        },
        "outputId": "66e9d308-ddd8-4869-f969-9a8a600a7e94"
      },
      "source": [
        "from statsmodels.tsa.arima_model import ARIMA"
      ],
      "execution_count": null,
      "outputs": [
        {
          "output_type": "stream",
          "name": "stderr",
          "text": [
            "/usr/local/lib/python3.7/dist-packages/statsmodels/tools/_testing.py:19: FutureWarning: pandas.util.testing is deprecated. Use the functions in the public API at pandas.testing instead.\n",
            "  import pandas.util.testing as tm\n"
          ]
        }
      ]
    },
    {
      "cell_type": "code",
      "metadata": {
        "colab": {
          "base_uri": "https://localhost:8080/"
        },
        "id": "B064-n5f_K13",
        "outputId": "318cc5a5-c6fe-418b-cc1f-7c804ae2673b"
      },
      "source": [
        "model=ARIMA(train,order=(0,1,0))\n",
        "result=model.fit(disp=0)"
      ],
      "execution_count": null,
      "outputs": [
        {
          "output_type": "stream",
          "name": "stderr",
          "text": [
            "/usr/local/lib/python3.7/dist-packages/statsmodels/tsa/base/tsa_model.py:219: ValueWarning: A date index has been provided, but it has no associated frequency information and so will be ignored when e.g. forecasting.\n",
            "  ' ignored when e.g. forecasting.', ValueWarning)\n",
            "/usr/local/lib/python3.7/dist-packages/statsmodels/tsa/base/tsa_model.py:219: ValueWarning: A date index has been provided, but it has no associated frequency information and so will be ignored when e.g. forecasting.\n",
            "  ' ignored when e.g. forecasting.', ValueWarning)\n"
          ]
        }
      ]
    },
    {
      "cell_type": "code",
      "metadata": {
        "colab": {
          "base_uri": "https://localhost:8080/",
          "height": 213
        },
        "id": "FIxxyPy9Bd-V",
        "outputId": "47b63ed9-6aee-495a-a9ed-17527134b951"
      },
      "source": [
        "result.summary()"
      ],
      "execution_count": null,
      "outputs": [
        {
          "output_type": "execute_result",
          "data": {
            "text/html": [
              "<table class=\"simpletable\">\n",
              "<caption>ARIMA Model Results</caption>\n",
              "<tr>\n",
              "  <th>Dep. Variable:</th>     <td>D.Dernier</td>    <th>  No. Observations:  </th>    <td>992</td>   \n",
              "</tr>\n",
              "<tr>\n",
              "  <th>Model:</th>          <td>ARIMA(0, 1, 0)</td>  <th>  Log Likelihood     </th> <td>-4110.329</td>\n",
              "</tr>\n",
              "<tr>\n",
              "  <th>Method:</th>               <td>css</td>       <th>  S.D. of innovations</th>  <td>15.249</td>  \n",
              "</tr>\n",
              "<tr>\n",
              "  <th>Date:</th>          <td>Thu, 14 Oct 2021</td> <th>  AIC                </th> <td>8224.658</td> \n",
              "</tr>\n",
              "<tr>\n",
              "  <th>Time:</th>              <td>15:24:24</td>     <th>  BIC                </th> <td>8234.457</td> \n",
              "</tr>\n",
              "<tr>\n",
              "  <th>Sample:</th>                <td>1</td>        <th>  HQIC               </th> <td>8228.383</td> \n",
              "</tr>\n",
              "<tr>\n",
              "  <th></th>                       <td> </td>        <th>                     </th>     <td> </td>    \n",
              "</tr>\n",
              "</table>\n",
              "<table class=\"simpletable\">\n",
              "<tr>\n",
              "    <td></td>       <th>coef</th>     <th>std err</th>      <th>z</th>      <th>P>|z|</th>  <th>[0.025</th>    <th>0.975]</th>  \n",
              "</tr>\n",
              "<tr>\n",
              "  <th>const</th> <td>    0.7752</td> <td>    0.484</td> <td>    1.601</td> <td> 0.110</td> <td>   -0.174</td> <td>    1.724</td>\n",
              "</tr>\n",
              "</table>"
            ],
            "text/plain": [
              "<class 'statsmodels.iolib.summary.Summary'>\n",
              "\"\"\"\n",
              "                             ARIMA Model Results                              \n",
              "==============================================================================\n",
              "Dep. Variable:              D.Dernier   No. Observations:                  992\n",
              "Model:                 ARIMA(0, 1, 0)   Log Likelihood               -4110.329\n",
              "Method:                           css   S.D. of innovations             15.249\n",
              "Date:                Thu, 14 Oct 2021   AIC                           8224.658\n",
              "Time:                        15:24:24   BIC                           8234.457\n",
              "Sample:                             1   HQIC                          8228.383\n",
              "                                                                              \n",
              "==============================================================================\n",
              "                 coef    std err          z      P>|z|      [0.025      0.975]\n",
              "------------------------------------------------------------------------------\n",
              "const          0.7752      0.484      1.601      0.110      -0.174       1.724\n",
              "==============================================================================\n",
              "\"\"\""
            ]
          },
          "metadata": {},
          "execution_count": 11
        }
      ]
    },
    {
      "cell_type": "code",
      "metadata": {
        "id": "QFnZivIPB3h2"
      },
      "source": [
        "step=50\n",
        "fc,se,conf=result.forecast(step)"
      ],
      "execution_count": null,
      "outputs": []
    },
    {
      "cell_type": "code",
      "metadata": {
        "colab": {
          "base_uri": "https://localhost:8080/"
        },
        "id": "8FfYwaWTCRlP",
        "outputId": "c82ae21c-aa2c-43a6-f4d5-6ab25961a83f"
      },
      "source": [
        "fc"
      ],
      "execution_count": null,
      "outputs": [
        {
          "output_type": "execute_result",
          "data": {
            "text/plain": [
              "array([2150.77520161, 2151.55040323, 2152.32560484, 2153.10080645,\n",
              "       2153.87600806, 2154.65120968, 2155.42641129, 2156.2016129 ,\n",
              "       2156.97681452, 2157.75201613, 2158.52721774, 2159.30241935,\n",
              "       2160.07762097, 2160.85282258, 2161.62802419, 2162.40322581,\n",
              "       2163.17842742, 2163.95362903, 2164.72883065, 2165.50403226,\n",
              "       2166.27923387, 2167.05443548, 2167.8296371 , 2168.60483871,\n",
              "       2169.38004032, 2170.15524194, 2170.93044355, 2171.70564516,\n",
              "       2172.48084677, 2173.25604839, 2174.03125   , 2174.80645161,\n",
              "       2175.58165323, 2176.35685484, 2177.13205645, 2177.90725806,\n",
              "       2178.68245968, 2179.45766129, 2180.2328629 , 2181.00806452,\n",
              "       2181.78326613, 2182.55846774, 2183.33366935, 2184.10887097,\n",
              "       2184.88407258, 2185.65927419, 2186.43447581, 2187.20967742,\n",
              "       2187.98487903, 2188.76008065])"
            ]
          },
          "metadata": {},
          "execution_count": 21
        }
      ]
    },
    {
      "cell_type": "code",
      "metadata": {
        "id": "cxV0O7gfCU2N"
      },
      "source": [
        "fc=pd.Series(fc,index=test[:step].index)\n",
        "lower=pd.Series(conf[:,0],index=test[:step].index)\n",
        "upper=pd.Series(conf[:,1],index=test[:step].index)"
      ],
      "execution_count": null,
      "outputs": []
    },
    {
      "cell_type": "code",
      "metadata": {
        "colab": {
          "base_uri": "https://localhost:8080/",
          "height": 463
        },
        "id": "tYdB1-G5DOCq",
        "outputId": "8a7d1803-85bd-4e5a-e855-a5735bc74b1b"
      },
      "source": [
        "plt.figure(figsize=(16,8))\n",
        "plt.plot(test[:step],label=\"actuelle\")\n",
        "plt.plot(fc,label=\"prediction\")\n",
        "plt.title(\"Prediction vs actuelle\")\n",
        "plt.fill_between(lower.index,lower,upper,color='k',alpha=0.1)\n",
        "plt.xlabel('Date',fontsize=18)\n",
        "plt.ylabel('Dernier prix ',fontsize=18)\n",
        "plt.legend(loc='upper left')\n",
        "plt.show()"
      ],
      "execution_count": null,
      "outputs": [
        {
          "output_type": "display_data",
          "data": {
            "image/png": "[encoded data removed]",
            "text/plain": [
              "<Figure size 1152x576 with 1 Axes>"
            ]
          },
          "metadata": {
            "needs_background": "light"
          }
        }
      ]
    }
  ]
}